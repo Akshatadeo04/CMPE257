{
 "cells": [
  {
   "cell_type": "code",
   "execution_count": 2,
   "metadata": {},
   "outputs": [
    {
     "data": {
      "image/png": "[encoded data removed]",
      "text/plain": [
       "<Figure size 432x288 with 1 Axes>"
      ]
     },
     "metadata": {
      "needs_background": "light"
     },
     "output_type": "display_data"
    }
   ],
   "source": [
    "import sys\n",
    "import numpy as np\n",
    "import matplotlib.pyplot as plt\n",
    "\n",
    "\n",
    "def generateData():\n",
    "    X = []\n",
    "    Y = []\n",
    "    #For lower half input-space\n",
    "    for i in range(3):\n",
    "        x1 = np.random.uniform(-1,1)\n",
    "        x2 = np.random.uniform(-1,0)\n",
    "        X.append([x1,x2])\n",
    "        Y.append(-1)\n",
    "        \n",
    "    #For upper half input-space\n",
    "    for i in range(3):\n",
    "        x1 = np.random.uniform(-1,1)\n",
    "        x2 = np.random.uniform(0,1)\n",
    "        X.append([x1,x2])\n",
    "        Y.append(1)\n",
    "\n",
    "    return X, Y\n",
    "\n",
    "def g_random(X,Y):\n",
    "    a = np.random.uniform(-1,1)\n",
    "    return a\n",
    "\n",
    "def g_SVM(X,Y):\n",
    "    H_Lo = -sys.maxsize -1\n",
    "    H_Hi = sys.maxsize\n",
    "    for i in range(len(X)):\n",
    "        if Y[i] == -1:\n",
    "            if X[i][1] > H_Lo:\n",
    "                H_Lo = X[i][1]\n",
    "        else:\n",
    "            if X[i][1] < H_Hi:\n",
    "                H_Hi = X[i][1]\n",
    "\n",
    "    H_M = (H_Hi+H_Lo)/2\n",
    "    return [H_Lo, H_M, H_Hi]\n",
    "    \n",
    "    \n",
    "'''''''''''''''''''''''''''\n",
    "Q3 Part A and B\n",
    "'''''''''''''''''''''''''''\n",
    "#Plot points\n",
    "X,Y = generateData()\n",
    "X1 = [i[0] for i in X]\n",
    "X2 = [i[1] for i in X]\n",
    "plt.scatter(X1,X2, s=10)\n",
    "\n",
    "#Plot g_random\n",
    "axes = plt.gca()\n",
    "axes.set_xbound(lower=-1,upper=1)\n",
    "x_vals = np.array(axes.get_xlim())\n",
    "intercept = g_random(X,Y)\n",
    "slope = 0\n",
    "y_vals = intercept + slope*x_vals\n",
    "plt.plot(x_vals, y_vals, '-.',label = 'g_random', linewidth=2.0)\n",
    "\n",
    "#plot 3 lines for g_SVM\n",
    "H = g_SVM(X,Y)\n",
    "labels = ['SVM_Lo', 'SVM', 'SVM_Hi']\n",
    "for i in range(len(H)):\n",
    "    x_vals = np.array(axes.get_xlim())\n",
    "    intercept = H[i]\n",
    "    slope = 0\n",
    "    y_vals = intercept + slope*x_vals\n",
    "    plt.plot(x_vals, y_vals, '-', label = labels[i])\n",
    "    \n",
    "    \n",
    "plt.axis([-1,1,-1,1])\n",
    "plt.grid(True)\n",
    "plt.legend()\n",
    "plt.show()"
   ]
  },
  {
   "cell_type": "code",
   "execution_count": null,
   "metadata": {},
   "outputs": [],
   "source": []
  }
 ],
 "metadata": {
  "kernelspec": {
   "display_name": "Python 3",
   "language": "python",
   "name": "python3"
  },
  "language_info": {
   "codemirror_mode": {
    "name": "ipython",
    "version": 3
   },
   "file_extension": ".py",
   "mimetype": "text/x-python",
   "name": "python",
   "nbconvert_exporter": "python",
   "pygments_lexer": "ipython3",
   "version": "3.7.1"
  }
 },
 "nbformat": 4,
 "nbformat_minor": 2
}

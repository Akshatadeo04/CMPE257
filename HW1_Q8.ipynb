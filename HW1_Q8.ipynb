{
 "cells": [
  {
   "cell_type": "code",
   "execution_count": 2,
   "metadata": {},
   "outputs": [
    {
     "name": "stdout",
     "output_type": "stream",
     "text": [
      "Number of updates: \n",
      "348\n"
     ]
    },
    {
     "data": {
      "image/png": "[encoded data removed]",
      "text/plain": [
       "<Figure size 432x288 with 1 Axes>"
      ]
     },
     "metadata": {
      "needs_background": "light"
     },
     "output_type": "display_data"
    }
   ],
   "source": [
    "import random\n",
    "import numpy as np\n",
    "import matplotlib.pyplot as plt\n",
    "\n",
    "#FOR 2-DIMENSIONAL INPUT\n",
    "\n",
    "def generateData(ds):\n",
    "    a = random.uniform(-20,20);\n",
    "    b = random.uniform(-20,20);\n",
    "    c = random.uniform(-20,20);\n",
    "    X = []\n",
    "    Y = []\n",
    "    Z = []\n",
    "    Z.append(a)\n",
    "    Z.append(b)\n",
    "    Z.append(c)\n",
    "    while(ds>=1):\n",
    "        x1 = random.uniform(-20,20);\n",
    "        x2 = random.uniform(-20,20);\n",
    "        Xrow = []\n",
    "        Xrow.append(x1)\n",
    "        Xrow.append(x2)\n",
    "        if((a*x1 + b*x2 + c) >= 0):\n",
    "            Y.append(1)\n",
    "        else:\n",
    "            Y.append(-1)\n",
    "        ds = ds-1\n",
    "        X.append(Xrow)\n",
    "    return X,Y,Z\n",
    "\n",
    "def perceptron(X,Y,ds):\n",
    "    W = [0,0,0]\n",
    "    ds1 = ds\n",
    "    i=0\n",
    "    count = 0\n",
    "    while(ds1>=1):\n",
    "        if((W[0]+W[1]*X[i][0]+W[2]*X[i][1])>=0 and Y[i] == -1):\n",
    "            W[0] = W[0]-1\n",
    "            W[1] = W[1]-X[i][0]\n",
    "            W[2] = W[2]-X[i][1]\n",
    "            ds1 = ds\n",
    "            i=0\n",
    "            count = count +1\n",
    "        elif((W[0]+W[1]*X[i][0]+W[2]*X[i][1])<0 and Y[i] == 1):\n",
    "            W[0] = W[0]+1\n",
    "            W[1] = W[1]+X[i][0]\n",
    "            W[2] = W[2]+X[i][1]\n",
    "            ds1 = ds\n",
    "            i=0\n",
    "            count = count +1\n",
    "        else:\n",
    "            ds1=ds1-1\n",
    "            i = i+1\n",
    "    print(\"Number of updates: \")\n",
    "    print(count)\n",
    "    return W\n",
    "\n",
    "dataset = 100\n",
    "X,Y,Z = generateData(dataset)\n",
    "W = perceptron(X,Y,dataset)\n",
    "X_pos_0 = []\n",
    "X_pos_1 = []\n",
    "X_neg_0 = []\n",
    "X_neg_1 = []\n",
    "Xrow = []\n",
    "\n",
    "for i in range(0,len(X)):\n",
    "    if(Y[i] == 1):\n",
    "        X_pos_0.append(X[i][0])\n",
    "        X_pos_1.append(X[i][1])\n",
    "    else:\n",
    "        X_neg_0.append(X[i][0])\n",
    "        X_neg_1.append(X[i][1])\n",
    "plt.scatter(X_pos_0, X_pos_1, marker = 'o')\n",
    "plt.scatter(X_neg_0, X_neg_1, marker = 'x')\n",
    "\n",
    "gx = np.linspace(-20,20)\n",
    "if(W[2] != 0):\n",
    "    plt.plot(gx,-1*(((W[1]/W[2])*gx)+ (W[0]/W[2])),'-r',label='g(x)')\n",
    "else:\n",
    "    plt.plot(gx,(-W[0]/W[1]),'-r',label='g(x)')\n",
    "\n",
    "fx = np.linspace(-20,20)\n",
    "if(Z[1] != 0):\n",
    "    plt.plot(fx,-1*(((Z[0]/Z[1])*fx)+ (Z[2]/Z[1])),'-g',label='f(x)')\n",
    "else:\n",
    "    plt.plot(fx,(-Z[2]/Z[1]),'-g',label='f(x)')\n",
    "\n",
    "\n",
    "plt.xlabel('x1')\n",
    "plt.ylabel('x2')\n",
    "plt.title('PLA: red line is g(x) & green line is f(x)')\n",
    "plt.show()"
   ]
  },
  {
   "cell_type": "code",
   "execution_count": null,
   "metadata": {},
   "outputs": [],
   "source": []
  }
 ],
 "metadata": {
  "kernelspec": {
   "display_name": "Python 3",
   "language": "python",
   "name": "python3"
  },
  "language_info": {
   "codemirror_mode": {
    "name": "ipython",
    "version": 3
   },
   "file_extension": ".py",
   "mimetype": "text/x-python",
   "name": "python",
   "nbconvert_exporter": "python",
   "pygments_lexer": "ipython3",
   "version": "3.7.1"
  }
 },
 "nbformat": 4,
 "nbformat_minor": 2
}
